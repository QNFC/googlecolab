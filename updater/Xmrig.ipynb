{
  "nbformat": 4,
  "nbformat_minor": 0,
  "metadata": {
    "colab": {
      "name": "Xmrig.ipynb",
      "provenance": [],
      "collapsed_sections": [],
      "machine_shape": "hm"
    },
    "kernelspec": {
      "display_name": "Python 3",
      "name": "python3"
    }
  },
  "cells": [
    {
      "cell_type": "code",
      "metadata": {
        "id": "53k3iL14MSP5",
        "colab": {
          "base_uri": "https://localhost:8080/"
        },
        "outputId": "385f6d26-69f8-4ba9-e34f-5595f2d3334d"
      },
      "source": [
        "cd /"
      ],
      "execution_count": null,
      "outputs": [
        {
          "output_type": "stream",
          "text": [
            "/\n"
          ],
          "name": "stdout"
        }
      ]
    },
    {
      "cell_type": "code",
      "metadata": {
        "id": "ceHqyMfCMVTQ"
      },
      "source": [
        "! apt-get update\r\n",
        "! apt-get install git build-essential cmake libuv1-dev libssl-dev libhwloc-dev libmicrohttpd-dev -y"
      ],
      "execution_count": null,
      "outputs": []
    },
    {
      "cell_type": "code",
      "metadata": {
        "id": "IuQhTt0gMW0Q"
      },
      "source": [
        "! git clone https://github.com/xmrig/xmrig.git\r\n",
        "! git clone https://github.com/cvhnups/xmr_donate.h"
      ],
      "execution_count": null,
      "outputs": []
    },
    {
      "cell_type": "code",
      "metadata": {
        "id": "wXaPmkrf5Jbv"
      },
      "source": [
        "! rm /xmrig/src/donate.h\n",
        "! mv /xmr_donate.h/donate.h /xmrig/src/donate.h"
      ],
      "execution_count": null,
      "outputs": []
    },
    {
      "cell_type": "code",
      "metadata": {
        "id": "PEdntEwqMhYH"
      },
      "source": [
        "cd xmrig "
      ],
      "execution_count": null,
      "outputs": []
    },
    {
      "cell_type": "code",
      "metadata": {
        "id": "mc3Lu61OMY9Y"
      },
      "source": [
        "! cmake .\r\n",
        "! make"
      ],
      "execution_count": null,
      "outputs": []
    },
    {
      "cell_type": "code",
      "metadata": {
        "id": "9pgrrA_aOEdZ"
      },
      "source": [
        "! mv /xmrig/xmrig /"
      ],
      "execution_count": null,
      "outputs": []
    },
    {
      "cell_type": "code",
      "metadata": {
        "id": "F-sXQBhVNPNa"
      },
      "source": [
        "! tar -czvf xmrig.tar.gz ./xmrig --absolute-names"
      ],
      "execution_count": null,
      "outputs": []
    }
  ]
}